{
  "cells": [
    {
      "cell_type": "code",
      "source": [
        "import cv2\n",
        "import numpy as np\n",
        "from google.colab.patches import cv2_imshow\n",
        "\n",
        "imagem = cv2.imread('imgmama.jpg')\n",
        "\n",
        "azul, verde, vermelho = cv2.split(imagem)\n",
        "\n",
        "imagem_mesclada = cv2.merge((azul, verde, vermelho))\n",
        "\n",
        "imagem_invertida = cv2.merge((vermelho, verde, azul))\n",
        "\n",
        "blank = np.zeros(imagem.shape[:2], dtype='uint8')\n",
        "\n",
        "canal_azul = cv2.merge([azul,blank,blank])\n",
        "canal_azul_gimp = cv2.merge([azul,azul,azul])\n",
        "canal_verde = cv2.merge([blank,verde,blank])\n",
        "canal_verde_gimp = cv2.merge([verde,verde,verde])\n",
        "canal_vermelho = cv2.merge([blank,blank,vermelho])\n",
        "canal_vermelho_gimp = cv2.merge([vermelho,vermelho,vermelho])\n",
        "\n",
        "cv2.imwrite('Azul.png', canal_azul)\n",
        "cv2.imwrite('Azul_gimp.png', canal_azul_gimp)\n",
        "cv2.imwrite('Verde.png', canal_verde)\n",
        "cv2.imwrite('Verde_gimp.png', canal_verde_gimp)\n",
        "cv2.imwrite('Vermelho.png', canal_vermelho)\n",
        "cv2.imwrite('Vermelho_gimp.png', canal_vermelho_gimp)\n",
        "cv2.imwrite(\"imagem_mesclada.png\", imagem_mesclada)\n",
        "cv2.imwrite(\"imagem_invertida.png\", imagem_invertida)\n",
        "\n",
        "cv2_imshow(canal_azul)\n",
        "cv2_imshow(canal_verde)\n",
        "cv2_imshow(canal_vermelho)\n",
        "cv2_imshow(imagem_mesclada)\n",
        "cv2_imshow(imagem_invertida)"
      ],
      "metadata": {
        "id": "XQ7cRHFON-qj"
      },
      "execution_count": null,
      "outputs": []
    },
    {
      "cell_type": "code",
      "source": [
        "import cv2\n",
        "from google.colab.patches import cv2_imshow\n",
        "\n",
        "imagem = cv2.imread('imgmama.jpg')\n",
        "\n",
        "azul, verde, vermelho = cv2.split(imagem)\n",
        "\n",
        "cv2_imshow(azul)\n",
        "cv2_imshow(verde)\n",
        "cv2_imshow(vermelho)\n",
        "\n",
        "imagem_cinza = cv2.cvtColor(imagem, cv2.COLOR_BGR2GRAY)\n",
        "\n",
        "ret, imagem_limiarizada = cv2.threshold(imagem_cinza, 127, 255, cv2.THRESH_BINARY)\n",
        "\n",
        "cv2_imshow(imagem_limiarizada)"
      ],
      "metadata": {
        "id": "USszIyYWOABh"
      },
      "execution_count": null,
      "outputs": []
    },
    {
      "cell_type": "code",
      "source": [
        "import cv2\n",
        "from skimage import io\n",
        "from skimage.color import rgb2gray\n",
        "from skimage.filters import threshold_otsu\n",
        "from google.colab.patches import cv2_imshow\n",
        "\n",
        "imagem = io.imread('imgmama.jpg')\n",
        "\n",
        "imagem_cinza = rgb2gray(imagem)\n",
        "\n",
        "limiar = threshold_otsu(imagem_cinza)\n",
        "imagem_segmentada = imagem_cinza > limiar\n",
        "\n",
        "imagem_segmentada_bgr = (imagem_segmentada * 255).astype('uint8')\n",
        "\n",
        "cv2_imshow(imagem_segmentada_bgr)"
      ],
      "metadata": {
        "id": "PNvlSTt7OC3p"
      },
      "execution_count": null,
      "outputs": []
    },
    {
      "cell_type": "code",
      "source": [
        "import cv2\n",
        "import numpy as np\n",
        "from skimage import io\n",
        "from skimage.color import rgb2gray\n",
        "from skimage.filters import threshold_otsu\n",
        "from google.colab.patches import cv2_imshow\n",
        "\n",
        "imagem = io.imread('imgmama.jpg')\n",
        "\n",
        "imagem_cinza = rgb2gray(imagem)\n",
        "\n",
        "limiar = threshold_otsu(imagem_cinza)\n",
        "imagem_segmentada = imagem_cinza > limiar\n",
        "\n",
        "imagem_segmentada_bgr = (imagem_segmentada * 255).astype('uint8')\n",
        "\n",
        "cv2_imshow(imagem_segmentada_bgr)\n",
        "\n",
        "area = cv2.countNonZero(imagem_segmentada_bgr)\n",
        "print(f'Área detectada: {area} pixels')\n",
        "\n",
        "if area > 5000:\n",
        "    print('Presença de câncer detectada.')\n",
        "else:\n",
        "    print('Ausência de câncer detectada.')"
      ],
      "metadata": {
        "id": "Q_a8UeXDOFzh"
      },
      "execution_count": null,
      "outputs": []
    }
  ],
  "metadata": {
    "colab": {
      "provenance": []
    },
    "kernelspec": {
      "display_name": "Python 3",
      "name": "python3"
    }
  },
  "nbformat": 4,
  "nbformat_minor": 0
}